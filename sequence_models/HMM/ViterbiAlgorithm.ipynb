{
 "cells": [
  {
   "cell_type": "code",
   "execution_count": 1,
   "metadata": {
    "collapsed": true
   },
   "outputs": [],
   "source": [
    "from __future__ import print_function, division\n",
    "import numpy as np\n",
    "import pandas as pd"
   ]
  },
  {
   "cell_type": "markdown",
   "metadata": {},
   "source": [
    "## The a simple version of viterbi algorithm is implemented responsible for part-of-speech tagging."
   ]
  },
  {
   "cell_type": "code",
   "execution_count": 2,
   "metadata": {
    "collapsed": false
   },
   "outputs": [
    {
     "data": {
      "text/html": [
       "<div>\n",
       "<table border=\"1\" class=\"dataframe\">\n",
       "  <thead>\n",
       "    <tr style=\"text-align: right;\">\n",
       "      <th></th>\n",
       "      <th>VB</th>\n",
       "      <th>TO</th>\n",
       "      <th>NN</th>\n",
       "      <th>PPSS</th>\n",
       "    </tr>\n",
       "  </thead>\n",
       "  <tbody>\n",
       "    <tr>\n",
       "      <th>s</th>\n",
       "      <td>0.0190</td>\n",
       "      <td>0.00430</td>\n",
       "      <td>0.04100</td>\n",
       "      <td>0.06700</td>\n",
       "    </tr>\n",
       "    <tr>\n",
       "      <th>VB</th>\n",
       "      <td>0.0038</td>\n",
       "      <td>0.03500</td>\n",
       "      <td>0.04700</td>\n",
       "      <td>0.00700</td>\n",
       "    </tr>\n",
       "    <tr>\n",
       "      <th>TO</th>\n",
       "      <td>0.8300</td>\n",
       "      <td>0.00000</td>\n",
       "      <td>0.00047</td>\n",
       "      <td>0.00000</td>\n",
       "    </tr>\n",
       "    <tr>\n",
       "      <th>NN</th>\n",
       "      <td>0.0040</td>\n",
       "      <td>0.01600</td>\n",
       "      <td>0.08700</td>\n",
       "      <td>0.00450</td>\n",
       "    </tr>\n",
       "    <tr>\n",
       "      <th>PPSS</th>\n",
       "      <td>0.2300</td>\n",
       "      <td>0.00079</td>\n",
       "      <td>0.00120</td>\n",
       "      <td>0.00014</td>\n",
       "    </tr>\n",
       "  </tbody>\n",
       "</table>\n",
       "</div>"
      ],
      "text/plain": [
       "          VB       TO       NN     PPSS\n",
       "s     0.0190  0.00430  0.04100  0.06700\n",
       "VB    0.0038  0.03500  0.04700  0.00700\n",
       "TO    0.8300  0.00000  0.00047  0.00000\n",
       "NN    0.0040  0.01600  0.08700  0.00450\n",
       "PPSS  0.2300  0.00079  0.00120  0.00014"
      ]
     },
     "execution_count": 2,
     "metadata": {},
     "output_type": "execute_result"
    }
   ],
   "source": [
    "transi = pd.DataFrame({'VB': [.019, .0038, .83, .0040, .23],\n",
    "                       'TO': [.0043, .035, 0, .016, .00079],\n",
    "                       'NN': [.041, .047, .00047, .087, .0012],\n",
    "                       'PPSS': [.067, .0070, 0, .0045, .00014]},\n",
    "                      index=['s', 'VB', 'TO', 'NN', 'PPSS'],\n",
    "                      columns=['VB', 'TO', 'NN', 'PPSS'],\n",
    "                      dtype='float128')\n",
    "transi"
   ]
  },
  {
   "cell_type": "code",
   "execution_count": 3,
   "metadata": {
    "collapsed": false
   },
   "outputs": [
    {
     "data": {
      "text/html": [
       "<div>\n",
       "<table border=\"1\" class=\"dataframe\">\n",
       "  <thead>\n",
       "    <tr style=\"text-align: right;\">\n",
       "      <th></th>\n",
       "      <th>I</th>\n",
       "      <th>want</th>\n",
       "      <th>to</th>\n",
       "      <th>race</th>\n",
       "    </tr>\n",
       "  </thead>\n",
       "  <tbody>\n",
       "    <tr>\n",
       "      <th>VB</th>\n",
       "      <td>0.00</td>\n",
       "      <td>0.009300</td>\n",
       "      <td>0.00</td>\n",
       "      <td>0.00012</td>\n",
       "    </tr>\n",
       "    <tr>\n",
       "      <th>TO</th>\n",
       "      <td>0.00</td>\n",
       "      <td>0.000000</td>\n",
       "      <td>0.99</td>\n",
       "      <td>0.00000</td>\n",
       "    </tr>\n",
       "    <tr>\n",
       "      <th>NN</th>\n",
       "      <td>0.00</td>\n",
       "      <td>0.000054</td>\n",
       "      <td>0.00</td>\n",
       "      <td>0.00057</td>\n",
       "    </tr>\n",
       "    <tr>\n",
       "      <th>PPSS</th>\n",
       "      <td>0.37</td>\n",
       "      <td>0.000000</td>\n",
       "      <td>0.00</td>\n",
       "      <td>0.00000</td>\n",
       "    </tr>\n",
       "  </tbody>\n",
       "</table>\n",
       "</div>"
      ],
      "text/plain": [
       "         I      want    to     race\n",
       "VB    0.00  0.009300  0.00  0.00012\n",
       "TO    0.00  0.000000  0.99  0.00000\n",
       "NN    0.00  0.000054  0.00  0.00057\n",
       "PPSS  0.37  0.000000  0.00  0.00000"
      ]
     },
     "execution_count": 3,
     "metadata": {},
     "output_type": "execute_result"
    }
   ],
   "source": [
    "obser = pd.DataFrame({'I': [0, 0, 0, .37],\n",
    "                      'want': [.0093, 0, .000054, 0],\n",
    "                      'to': [0, .99, 0, 0],\n",
    "                      'race': [.00012, 0, .00057, 0]},\n",
    "                     index=['VB', 'TO', 'NN', 'PPSS'],\n",
    "                     columns=['I', 'want', 'to', 'race'],\n",
    "                     dtype='float128')\n",
    "obser"
   ]
  },
  {
   "cell_type": "code",
   "execution_count": null,
   "metadata": {
    "collapsed": true
   },
   "outputs": [],
   "source": [
    "np.argmax()"
   ]
  },
  {
   "cell_type": "code",
   "execution_count": 35,
   "metadata": {
    "collapsed": false
   },
   "outputs": [
    {
     "name": "stdout",
     "output_type": "stream",
     "text": [
      "[[  0.00000000e+00   0.00000000e+00   0.00000000e+00   0.00000000e+00]\n",
      " [  0.00000000e+00   0.00000000e+00   0.00000000e+00   0.00000000e+00]\n",
      " [  0.00000000e+00   0.00000000e+00   0.00000000e+00   0.00000000e+00]\n",
      " [  2.47900000e-02   5.30258100e-05   1.13422208e-07   2.42610102e-10]\n",
      " [  0.00000000e+00   0.00000000e+00   0.00000000e+00   0.00000000e+00]\n",
      " [  0.00000000e+00   0.00000000e+00   0.00000000e+00   1.09174546e-12]]\n"
     ]
    }
   ],
   "source": [
    "def VITERBI(N, T):\n",
    "    viterbi = np.zeros((N+2, T))\n",
    "    bp = np.zeros((N, T))\n",
    "    for state in range(N):\n",
    "        viterbi[state, 0] = transi.ix[0, state] * obser.ix[state, 0]\n",
    "        bp[state, 0] = 0\n",
    "    for t in range(1, T):\n",
    "        for s in range(N):\n",
    "            viterbi[s, t] = max(viterbi[s, t-1] * \\\n",
    "                                transi.ix[s+1, sbar] * \\\n",
    "                                obser.ix[sbar, tbar] for sbar in range(N)\n",
    "                                                     for tbar in range(1,T))\n",
    "    # print(viterbi)\n",
    "    #print(bp)\n",
    "    viterbi[-1, -1] = max(viterbi[s, -1] * transi.ix[s, -1] for s in range(N))\n",
    "    return viterbi\n",
    "\n",
    "print(VITERBI(4,4))"
   ]
  },
  {
   "cell_type": "code",
   "execution_count": null,
   "metadata": {
    "collapsed": true
   },
   "outputs": [],
   "source": []
  }
 ],
 "metadata": {
  "kernelspec": {
   "display_name": "Python 2",
   "language": "python",
   "name": "python2"
  },
  "language_info": {
   "codemirror_mode": {
    "name": "ipython",
    "version": 2
   },
   "file_extension": ".py",
   "mimetype": "text/x-python",
   "name": "python",
   "nbconvert_exporter": "python",
   "pygments_lexer": "ipython2",
   "version": "2.7.13"
  }
 },
 "nbformat": 4,
 "nbformat_minor": 0
}
