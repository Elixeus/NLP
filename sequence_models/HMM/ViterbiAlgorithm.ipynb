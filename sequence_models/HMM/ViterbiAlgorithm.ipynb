{
 "cells": [
  {
   "cell_type": "code",
   "execution_count": 1,
   "metadata": {
    "collapsed": true
   },
   "outputs": [],
   "source": [
    "from __future__ import print_function, division\n",
    "import numpy as np\n",
    "import pandas as pd"
   ]
  },
  {
   "cell_type": "markdown",
   "metadata": {},
   "source": [
    "## The a simple version of viterbi algorithm is implemented responsible for part-of-speech tagging."
   ]
  },
  {
   "cell_type": "code",
   "execution_count": 2,
   "metadata": {
    "collapsed": false
   },
   "outputs": [
    {
     "data": {
      "text/html": [
       "<div>\n",
       "<table border=\"1\" class=\"dataframe\">\n",
       "  <thead>\n",
       "    <tr style=\"text-align: right;\">\n",
       "      <th></th>\n",
       "      <th>VB</th>\n",
       "      <th>TO</th>\n",
       "      <th>NN</th>\n",
       "      <th>PPSS</th>\n",
       "    </tr>\n",
       "  </thead>\n",
       "  <tbody>\n",
       "    <tr>\n",
       "      <th>s</th>\n",
       "      <td>0.0190</td>\n",
       "      <td>0.00430</td>\n",
       "      <td>0.04100</td>\n",
       "      <td>0.06700</td>\n",
       "    </tr>\n",
       "    <tr>\n",
       "      <th>VB</th>\n",
       "      <td>0.0038</td>\n",
       "      <td>0.03500</td>\n",
       "      <td>0.04700</td>\n",
       "      <td>0.00700</td>\n",
       "    </tr>\n",
       "    <tr>\n",
       "      <th>TO</th>\n",
       "      <td>0.8300</td>\n",
       "      <td>0.00000</td>\n",
       "      <td>0.00047</td>\n",
       "      <td>0.00000</td>\n",
       "    </tr>\n",
       "    <tr>\n",
       "      <th>NN</th>\n",
       "      <td>0.0040</td>\n",
       "      <td>0.01600</td>\n",
       "      <td>0.08700</td>\n",
       "      <td>0.00450</td>\n",
       "    </tr>\n",
       "    <tr>\n",
       "      <th>PPSS</th>\n",
       "      <td>0.2300</td>\n",
       "      <td>0.00079</td>\n",
       "      <td>0.00120</td>\n",
       "      <td>0.00014</td>\n",
       "    </tr>\n",
       "  </tbody>\n",
       "</table>\n",
       "</div>"
      ],
      "text/plain": [
       "          VB       TO       NN     PPSS\n",
       "s     0.0190  0.00430  0.04100  0.06700\n",
       "VB    0.0038  0.03500  0.04700  0.00700\n",
       "TO    0.8300  0.00000  0.00047  0.00000\n",
       "NN    0.0040  0.01600  0.08700  0.00450\n",
       "PPSS  0.2300  0.00079  0.00120  0.00014"
      ]
     },
     "execution_count": 2,
     "metadata": {},
     "output_type": "execute_result"
    }
   ],
   "source": [
    "transi = pd.DataFrame({'VB': [.019, .0038, .83, .0040, .23],\n",
    "                       'TO': [.0043, .035, 0, .016, .00079],\n",
    "                       'NN': [.041, .047, .00047, .087, .0012],\n",
    "                       'PPSS': [.067, .0070, 0, .0045, .00014]},\n",
    "                      index=['s', 'VB', 'TO', 'NN', 'PPSS'],\n",
    "                      columns=['VB', 'TO', 'NN', 'PPSS'],\n",
    "                      dtype='float128')\n",
    "transi"
   ]
  },
  {
   "cell_type": "code",
   "execution_count": 3,
   "metadata": {
    "collapsed": false
   },
   "outputs": [
    {
     "data": {
      "text/html": [
       "<div>\n",
       "<table border=\"1\" class=\"dataframe\">\n",
       "  <thead>\n",
       "    <tr style=\"text-align: right;\">\n",
       "      <th></th>\n",
       "      <th>I</th>\n",
       "      <th>want</th>\n",
       "      <th>to</th>\n",
       "      <th>race</th>\n",
       "    </tr>\n",
       "  </thead>\n",
       "  <tbody>\n",
       "    <tr>\n",
       "      <th>VB</th>\n",
       "      <td>0.00</td>\n",
       "      <td>0.009300</td>\n",
       "      <td>0.00</td>\n",
       "      <td>0.00012</td>\n",
       "    </tr>\n",
       "    <tr>\n",
       "      <th>TO</th>\n",
       "      <td>0.00</td>\n",
       "      <td>0.000000</td>\n",
       "      <td>0.99</td>\n",
       "      <td>0.00000</td>\n",
       "    </tr>\n",
       "    <tr>\n",
       "      <th>NN</th>\n",
       "      <td>0.00</td>\n",
       "      <td>0.000054</td>\n",
       "      <td>0.00</td>\n",
       "      <td>0.00057</td>\n",
       "    </tr>\n",
       "    <tr>\n",
       "      <th>PPSS</th>\n",
       "      <td>0.37</td>\n",
       "      <td>0.000000</td>\n",
       "      <td>0.00</td>\n",
       "      <td>0.00000</td>\n",
       "    </tr>\n",
       "  </tbody>\n",
       "</table>\n",
       "</div>"
      ],
      "text/plain": [
       "         I      want    to     race\n",
       "VB    0.00  0.009300  0.00  0.00012\n",
       "TO    0.00  0.000000  0.99  0.00000\n",
       "NN    0.00  0.000054  0.00  0.00057\n",
       "PPSS  0.37  0.000000  0.00  0.00000"
      ]
     },
     "execution_count": 3,
     "metadata": {},
     "output_type": "execute_result"
    }
   ],
   "source": [
    "obser = pd.DataFrame({'I': [0, 0, 0, .37],\n",
    "                      'want': [.0093, 0, .000054, 0],\n",
    "                      'to': [0, .99, 0, 0],\n",
    "                      'race': [.00012, 0, .00057, 0]},\n",
    "                     index=['VB', 'TO', 'NN', 'PPSS'],\n",
    "                     columns=['I', 'want', 'to', 'race'],\n",
    "                     dtype='float128')\n",
    "obser"
   ]
  },
  {
   "cell_type": "code",
   "execution_count": 5,
   "metadata": {
    "collapsed": false
   },
   "outputs": [
    {
     "name": "stdout",
     "output_type": "stream",
     "text": [
      "[[  0.00000000e+00   0.00000000e+00   0.00000000e+00   0.00000000e+00]\n",
      " [  0.00000000e+00   0.00000000e+00   0.00000000e+00   0.00000000e+00]\n",
      " [  0.00000000e+00   0.00000000e+00   0.00000000e+00   0.00000000e+00]\n",
      " [  2.47900000e-02   5.30258100e-05   1.13422208e-07   2.42610102e-10]\n",
      " [  0.00000000e+00   0.00000000e+00   0.00000000e+00   0.00000000e+00]\n",
      " [  0.00000000e+00   0.00000000e+00   0.00000000e+00   1.09174546e-12]]\n"
     ]
    }
   ],
   "source": [
    "def VITERBI(N, T):\n",
    "    viterbi = np.zeros((N+2, T))\n",
    "    bp = np.zeros((N, T))\n",
    "    for state in range(N):\n",
    "        viterbi[state, 0] = transi.iloc[0, state] * obser.iloc[state, 0]\n",
    "        bp[state, 0] = 0\n",
    "    for t in range(1, T):\n",
    "        for s in range(N):\n",
    "            viterbi[s, t] = max(viterbi[s, t-1] * \\\n",
    "                                transi.iloc[s+1, sbar] * \\\n",
    "                                obser.iloc[sbar, tbar] for sbar in range(N)\n",
    "                                                     for tbar in range(1,T))\n",
    "    # print(viterbi)\n",
    "    #print(bp)\n",
    "    viterbi[-1, -1] = max(viterbi[s, -1] * transi.iloc[s, -1] for s in range(N))\n",
    "    return viterbi\n",
    "\n",
    "print(VITERBI(4,4))"
   ]
  },
  {
   "cell_type": "markdown",
   "metadata": {
    "collapsed": true
   },
   "source": [
    "## Here's a more elaborated example\n",
    "I'm creating a viterbi function that takes 3 parameters: the transition probability matrix A (transition from one syntactic category to the next), the emission probability B (probability of an observed word given it's hidden syntactic category) and the observation sequence observ. It will print out all the trellises and return the most likely tags for each observed word."
   ]
  },
  {
   "cell_type": "code",
   "execution_count": 8,
   "metadata": {
    "collapsed": false
   },
   "outputs": [],
   "source": [
    "def viterbi(A, B, observ):\n",
    "    \"\"\"Hidden Markov models need to solve 3 fundamental problems:\n",
    "1. For a given HMM model M and an observation sequence O, what is the likelihood of P(O|M);\n",
    "2. For a given HMM model M and an observation sequence O, what is the best hidden state sequence Q(think of O as words, and Q as syntactic categories);\n",
    "3. For an observation sequence O, and the set of hidden states, learn the HMM parameters A and B;\n",
    "\n",
    "The viterbi aims at solving the second problem: for a given model and observation sequence, find out the most likely hidden state sequence.\n",
    "\n",
    "The viterbi algorithm is very similar to the forward algorithm, except that within the inner for loop, it looks for the maximum value of the trellis instead of the sum of all trellises. It also keeps track of the path.\n",
    "\n",
    "There are different ways to keep track of the largest path. The one I use here looks for the argmax of each column, and keep the x and y args in a tuple, and append this tuple to a list\n",
    "----------------------------\n",
    "params:\n",
    "A: the transition probability matrix; probability to change from one syntactic category to the next\n",
    "A type: pandas dataframe\n",
    "\n",
    "B: the emission probability matrix; probability to emit a symbol given a syntactic category\n",
    "B type: pandas dataframe\n",
    "\n",
    "observ: the observed sequence of words\n",
    "observ type: tuple of strings\"\"\"\n",
    "    # initialization\n",
    "    T = len(observ)\n",
    "    N = B.shape[0]\n",
    "    backpointer = [(0, 0)]\n",
    "    vtb = pd.DataFrame(np.zeros((N+2, T+1)),\n",
    "                       columns=('start',)+observ,\n",
    "                       index=('start',)+tuple(B.index)+('end',))\n",
    "    # viterbi algorithm\n",
    "    # initialize the second column\n",
    "    for s in vtb.index[1:-1]:\n",
    "        vtb.loc[s, observ[0]] = A.loc['start', s] * B.loc[s, observ[0]]\n",
    "    # compute the trellises starting from the 3rd column; recursion\n",
    "    for t in xrange(2, T+1):\n",
    "        for s in xrange(1, N+1):\n",
    "            vtb.iloc[s, t] = max(vtb.iloc[s_p, t-1] * A.iloc[s_p, s] * B.iloc[s-1, t-1]\n",
    "                            for s_p in xrange(1, N+1))\n",
    "    # find the argmax of each column and create a path\n",
    "    pointers = [(vtb.loc[:, i].argmax(), i) for i in observ]\n",
    "    backpointer.extend(pointers)\n",
    "    vtb.iloc[-1, T] = max(vtb.iloc[s, T]* A.iloc[s, -1] for s in xrange(1, N+1))\n",
    "    print(vtb)\n",
    "    return backpointer"
   ]
  },
  {
   "cell_type": "code",
   "execution_count": 9,
   "metadata": {
    "collapsed": true
   },
   "outputs": [],
   "source": [
    "# plug in the transition and emission probability matrices\n",
    "# normally these are computed by counting appearances and smoothing\n",
    "A_matrix = np.matrix(((0, 0.2767, 0.0006, 0.0031, 0.0453, 0.0449, 0.0510, 0.2026),\n",
    "                      (0, 0.3777, 0.0110, 0.0009, 0.0084, 0.0584, 0.0090, 0.0025),\n",
    "                      (0, 0.0008, 0.0002, 0.7968, 0.0005, 0.0008, 0.1698, 0.0041),\n",
    "                      (0, 0.0322, 0.0005, 0.0050, 0.0837, 0.0615, 0.0514, 0.2231),\n",
    "                      (0, 0.0366, 0.0004, 0.0001, 0.0733, 0.4509, 0.0036, 0.0036),\n",
    "                      (0, 0.0096, 0.0176, 0.0014, 0.0086, 0.1216, 0.0177, 0.0068),\n",
    "                      (0, 0.0068, 0.0102, 0.1011, 0.1012, 0.0120, 0.0728, 0.0479),\n",
    "                      (0, 0.1147, 0.0021, 0.0002, 0.2157, 0.4744, 0.0102, 0.0017))\n",
    "                    )\n",
    "A = pd.DataFrame(A_matrix,\n",
    "                 columns=('start','NNP', 'MD', 'VB', 'JJ',\n",
    "                          'NN', 'RB', 'DT'),\n",
    "                 index=('start', 'NNP', 'MD', 'VB', 'JJ',\n",
    "                        'NN', 'RB', 'DT'))\n",
    "B_matrix = {'NNP': {'Janet': 0.000032, 'will': 0, 'back': 0,\n",
    "            'the': 0.000048, 'bill': 0},\n",
    "            'MD': {'Janet': 0, 'will': 0.308431, 'back': 0,\n",
    "            'the': 0, 'bill': 0},\n",
    "            'VB': {'Janet': 0, 'will': 0.000028, 'back': 0.000672,\n",
    "            'the':0, 'bill':0.000028},\n",
    "            'JJ': {'Janet': 0, 'will': 0, 'back': 0.000340,\n",
    "            'the': 0.000097, 'bill': 0},\n",
    "            'NN': {'Janet': 0, 'will': 0.0002, 'back': 0.000223,\n",
    "            'the': 0.000006, 'bill': 0.002337},\n",
    "            'RB': {'Janet': 0, 'will': 0, 'back': 0.010446,\n",
    "            'the': 0, 'bill': 0},\n",
    "            'DT': {'Janet': 0, 'will': 0, 'back': 0,\n",
    "            'the': 0.506099, 'bill': 0}\n",
    "           }\n",
    "B = pd.DataFrame(B_matrix).T.reindex(A.index[1:],\n",
    "                                     columns=['Janet', 'will', 'back',\n",
    "                                              'the', 'bill'])"
   ]
  },
  {
   "cell_type": "code",
   "execution_count": 12,
   "metadata": {
    "collapsed": false
   },
   "outputs": [
    {
     "name": "stdout",
     "output_type": "stream",
     "text": [
      "       start     Janet          will          back           the          bill\n",
      "start    0.0  0.000000  0.000000e+00  0.000000e+00  0.000000e+00  0.000000e+00\n",
      "NNP      0.0  0.000009  0.000000e+00  0.000000e+00  2.486140e-17  0.000000e+00\n",
      "MD       0.0  0.000000  3.004069e-08  0.000000e+00  0.000000e+00  0.000000e+00\n",
      "VB       0.0  0.000000  2.231309e-13  1.608527e-11  0.000000e+00  1.017072e-20\n",
      "JJ       0.0  0.000000  0.000000e+00  5.106917e-15  5.230579e-16  0.000000e+00\n",
      "NN       0.0  0.000000  1.034194e-10  5.359258e-15  5.935466e-18  2.013571e-15\n",
      "RB       0.0  0.000000  0.000000e+00  5.328409e-11  0.000000e+00  0.000000e+00\n",
      "DT       0.0  0.000000  0.000000e+00  0.000000e+00  1.816199e-12  0.000000e+00\n",
      "end      0.0  0.000000  0.000000e+00  0.000000e+00  0.000000e+00  1.369228e-17\n",
      "[(0, 0), ('NNP', 'Janet'), ('MD', 'will'), ('RB', 'back'), ('DT', 'the'), ('NN', 'bill')]\n"
     ]
    }
   ],
   "source": [
    "OBS = ('Janet', 'will', 'back', 'the', 'bill')\n",
    "RESULT = viterbi(A, B, OBS)\n",
    "print(RESULT)"
   ]
  },
  {
   "cell_type": "code",
   "execution_count": null,
   "metadata": {
    "collapsed": true
   },
   "outputs": [],
   "source": []
  }
 ],
 "metadata": {
  "kernelspec": {
   "display_name": "Python 2",
   "language": "python",
   "name": "python2"
  },
  "language_info": {
   "codemirror_mode": {
    "name": "ipython",
    "version": 2
   },
   "file_extension": ".py",
   "mimetype": "text/x-python",
   "name": "python",
   "nbconvert_exporter": "python",
   "pygments_lexer": "ipython2",
   "version": "2.7.13"
  }
 },
 "nbformat": 4,
 "nbformat_minor": 0
}
