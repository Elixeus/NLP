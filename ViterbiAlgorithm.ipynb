{
 "cells": [
  {
   "cell_type": "code",
   "execution_count": 1,
   "metadata": {
    "collapsed": true
   },
   "outputs": [],
   "source": [
    "from __future__ import print_function, division\n",
    "import numpy as np\n",
    "import pandas as pd"
   ]
  },
  {
   "cell_type": "markdown",
   "metadata": {},
   "source": [
    "## The a simple version of viterbi algorithm is implemented responsible for part-of-speech tagging."
   ]
  },
  {
   "cell_type": "code",
   "execution_count": 302,
   "metadata": {
    "collapsed": false
   },
   "outputs": [
    {
     "data": {
      "text/html": [
       "<div>\n",
       "<table border=\"1\" class=\"dataframe\">\n",
       "  <thead>\n",
       "    <tr style=\"text-align: right;\">\n",
       "      <th></th>\n",
       "      <th>VB</th>\n",
       "      <th>TO</th>\n",
       "      <th>NN</th>\n",
       "      <th>PPSS</th>\n",
       "    </tr>\n",
       "  </thead>\n",
       "  <tbody>\n",
       "    <tr>\n",
       "      <th>s</th>\n",
       "      <td>0.0190</td>\n",
       "      <td>0.00430</td>\n",
       "      <td>0.04100</td>\n",
       "      <td>0.06700</td>\n",
       "    </tr>\n",
       "    <tr>\n",
       "      <th>VB</th>\n",
       "      <td>0.0038</td>\n",
       "      <td>0.03500</td>\n",
       "      <td>0.04700</td>\n",
       "      <td>0.00700</td>\n",
       "    </tr>\n",
       "    <tr>\n",
       "      <th>TO</th>\n",
       "      <td>0.8300</td>\n",
       "      <td>0.00000</td>\n",
       "      <td>0.00047</td>\n",
       "      <td>0.00000</td>\n",
       "    </tr>\n",
       "    <tr>\n",
       "      <th>NN</th>\n",
       "      <td>0.0040</td>\n",
       "      <td>0.01600</td>\n",
       "      <td>0.08700</td>\n",
       "      <td>0.00450</td>\n",
       "    </tr>\n",
       "    <tr>\n",
       "      <th>PPSS</th>\n",
       "      <td>0.2300</td>\n",
       "      <td>0.00079</td>\n",
       "      <td>0.00120</td>\n",
       "      <td>0.00014</td>\n",
       "    </tr>\n",
       "  </tbody>\n",
       "</table>\n",
       "</div>"
      ],
      "text/plain": [
       "          VB       TO       NN     PPSS\n",
       "s     0.0190  0.00430  0.04100  0.06700\n",
       "VB    0.0038  0.03500  0.04700  0.00700\n",
       "TO    0.8300  0.00000  0.00047  0.00000\n",
       "NN    0.0040  0.01600  0.08700  0.00450\n",
       "PPSS  0.2300  0.00079  0.00120  0.00014"
      ]
     },
     "execution_count": 302,
     "metadata": {},
     "output_type": "execute_result"
    }
   ],
   "source": [
    "transi = pd.DataFrame({'VB': [.019, .0038, .83, .0040, .23],\n",
    "                       'TO': [.0043, .035, 0, .016, .00079],\n",
    "                       'NN': [.041, .047, .00047, .087, .0012],\n",
    "                       'PPSS': [.067, .0070, 0, .0045, .00014]},\n",
    "                      index=['s', 'VB', 'TO', 'NN', 'PPSS'],\n",
    "                      columns=['VB', 'TO', 'NN', 'PPSS'],\n",
    "                      dtype='float32')\n",
    "transi"
   ]
  },
  {
   "cell_type": "code",
   "execution_count": 303,
   "metadata": {
    "collapsed": false
   },
   "outputs": [
    {
     "data": {
      "text/html": [
       "<div>\n",
       "<table border=\"1\" class=\"dataframe\">\n",
       "  <thead>\n",
       "    <tr style=\"text-align: right;\">\n",
       "      <th></th>\n",
       "      <th>I</th>\n",
       "      <th>want</th>\n",
       "      <th>to</th>\n",
       "      <th>race</th>\n",
       "    </tr>\n",
       "  </thead>\n",
       "  <tbody>\n",
       "    <tr>\n",
       "      <th>VB</th>\n",
       "      <td>0.00</td>\n",
       "      <td>0.009300</td>\n",
       "      <td>0.00</td>\n",
       "      <td>0.00012</td>\n",
       "    </tr>\n",
       "    <tr>\n",
       "      <th>TO</th>\n",
       "      <td>0.00</td>\n",
       "      <td>0.000000</td>\n",
       "      <td>0.99</td>\n",
       "      <td>0.00000</td>\n",
       "    </tr>\n",
       "    <tr>\n",
       "      <th>NN</th>\n",
       "      <td>0.00</td>\n",
       "      <td>0.000054</td>\n",
       "      <td>0.00</td>\n",
       "      <td>0.00057</td>\n",
       "    </tr>\n",
       "    <tr>\n",
       "      <th>PPSS</th>\n",
       "      <td>0.37</td>\n",
       "      <td>0.000000</td>\n",
       "      <td>0.00</td>\n",
       "      <td>0.00000</td>\n",
       "    </tr>\n",
       "  </tbody>\n",
       "</table>\n",
       "</div>"
      ],
      "text/plain": [
       "         I      want    to     race\n",
       "VB    0.00  0.009300  0.00  0.00012\n",
       "TO    0.00  0.000000  0.99  0.00000\n",
       "NN    0.00  0.000054  0.00  0.00057\n",
       "PPSS  0.37  0.000000  0.00  0.00000"
      ]
     },
     "execution_count": 303,
     "metadata": {},
     "output_type": "execute_result"
    }
   ],
   "source": [
    "obser = pd.DataFrame({'I': [0, 0, 0, .37],\n",
    "                      'want': [.0093, 0, .000054, 0],\n",
    "                      'to': [0, .99, 0, 0],\n",
    "                      'race': [.00012, 0, .00057, 0]},\n",
    "                     index=['VB', 'TO', 'NN', 'PPSS'],\n",
    "                     columns=['I', 'want', 'to', 'race'],\n",
    "                     dtype='float32')\n",
    "obser"
   ]
  },
  {
   "cell_type": "code",
   "execution_count": 348,
   "metadata": {
    "collapsed": false
   },
   "outputs": [
    {
     "name": "stdout",
     "output_type": "stream",
     "text": [
      "[[  0.00000000e+00   9.22188054e-07   0.00000000e+00   1.79014414e-15]\n",
      " [  0.00000000e+00   0.00000000e+00   3.92575472e-09   0.00000000e+00]\n",
      " [  0.00000000e+00   1.16463418e-07   0.00000000e+00   1.05170961e-13]\n",
      " [  2.47900002e-02   0.00000000e+00   0.00000000e+00   0.00000000e+00]\n",
      " [  0.00000000e+00   0.00000000e+00   0.00000000e+00   0.00000000e+00]\n",
      " [  0.00000000e+00   0.00000000e+00   0.00000000e+00   0.00000000e+00]]\n"
     ]
    }
   ],
   "source": [
    "def VITERBI(N, T):\n",
    "    viterbi = np.zeros((N+2, T))\n",
    "    bp = np.zeros((N, T))\n",
    "    for state in range(N):\n",
    "        viterbi[state, 0] = transi.ix[0, state] * obser.ix[state, 0]\n",
    "        bp[state, 0] = 0\n",
    "    for t in range(1, T):\n",
    "        for s in range(N):\n",
    "            viterbi[s, t] = max(viterbi[sbar, t-1] * transi.ix[sbar, s] * obser.ix[s, t] for sbar in range(N))\n",
    "            bp[s, t] = max(viterbi[sbar, t-1] * transi.ix[sbar, s] for sbar in range(N))\n",
    "    print(viterbi)\n",
    "#    print(bp)\n",
    "    viterbi[-1, -1] = max(viterbi[s, -1] * transi.ix[s, -1] for s in range(N))\n",
    "    bp[-1, -1] = max(viterbi[s, -1] * transi.ix[s, -1] for s in range(N))\n",
    "VITERBI(4,4)"
   ]
  },
  {
   "cell_type": "code",
   "execution_count": 346,
   "metadata": {
    "collapsed": false
   },
   "outputs": [
    {
     "name": "stdout",
     "output_type": "stream",
     "text": [
      "[[  0.00000000e+00   9.91600054e-05   1.79008582e-03   3.40116296e-05]\n",
      " [  0.00000000e+00   3.96640022e-04   1.38824008e-05   7.69736931e-06]\n",
      " [  0.00000000e+00   2.15672995e-03   1.86420804e-05   7.33935208e-05]\n",
      " [  2.47900002e-02   1.11554996e-04   6.64372053e-06   1.19935753e-04]\n",
      " [  0.00000000e+00   0.00000000e+00   0.00000000e+00   0.00000000e+00]\n",
      " [  0.00000000e+00   0.00000000e+00   0.00000000e+00   0.00000000e+00]]\n"
     ]
    }
   ],
   "source": [
    "def VITERBI(T, N):\n",
    "    viterbi = np.zeros((N+2, T))\n",
    "    bp = np.zeros((N+2, T))\n",
    "    for state in range(N):\n",
    "        viterbi[state, 0] = transi.ix[0, state] * obser.ix[state, 0]\n",
    "        bp[state, 0] = 0\n",
    "    # print(viterbi)\n",
    "    for t in range(1, T):\n",
    "        for s in range(N):\n",
    "            viterbi[s, t] = max(viterbi[sbar, t-1] * transi.ix[sbar, s] * obser.ix[s, t] for sbar in range(N))\n",
    "            #viterbi[s, t] = max(viterbi[sbar, t-1] * transi.ix[sbar, s] for sbar in range(N))\n",
    "            #bp[s, t] = max(viterbi[sbar, t-1] * transi.ix[sbar, s] for sbar in range(N))\n",
    "    print(viterbi)\n",
    "#    print(bp)\n",
    "#     viterbi[-1, -1] = max(viterbi[s, -1] * transi.ix[s, -1] for s in range(N))\n",
    "#     bp[-1, -1] = max(viterbi[s, -1] * transi.ix[s, -1] for s in range(N))\n",
    "#     print(viterbi)\n",
    "#     print('-------')\n",
    "#     print(bp)\n",
    "VITERBI(4, 4)"
   ]
  },
  {
   "cell_type": "code",
   "execution_count": 289,
   "metadata": {
    "collapsed": false
   },
   "outputs": [
    {
     "name": "stdout",
     "output_type": "stream",
     "text": [
      "0 1\n",
      "1 1\n",
      "2 1\n",
      "3 1\n",
      "0 2\n",
      "1 2\n",
      "2 2\n",
      "3 2\n",
      "0 3\n",
      "1 3\n",
      "2 3\n",
      "3 3\n"
     ]
    }
   ],
   "source": [
    "def VITERBI(T, N):\n",
    "    viterbi = np.zeros((N+2, T))\n",
    "    bp = np.zeros((N+2, T))\n",
    "    for state in range(N):\n",
    "        viterbi[state+1, 0] = transi.ix[0, state] * obser.ix[state, 0]\n",
    "        bp[state+1, 0] = 0\n",
    "    for t in range(1, T):\n",
    "        for s in range(N):\n",
    "            print(s, t)\n",
    "            #viterbi[s+1, t] = max(viterbi[sbar, t-1]*transi.ix[sbar, s]*obser.ix[t, sbar] for sbar in range(N))\n",
    "    #print(viterbi)\n",
    "VITERBI(4,4)"
   ]
  },
  {
   "cell_type": "code",
   "execution_count": 290,
   "metadata": {
    "collapsed": false
   },
   "outputs": [
    {
     "name": "stdout",
     "output_type": "stream",
     "text": [
      "[[ 0.       0.       0.       0.     ]\n",
      " [ 0.       0.       0.       0.     ]\n",
      " [ 0.       0.       0.       0.     ]\n",
      " [ 0.02479  0.       0.       0.     ]\n",
      " [ 0.       0.       0.       0.     ]\n",
      " [ 0.       0.       0.       0.     ]]\n"
     ]
    }
   ],
   "source": [
    "N = 4\n",
    "T = 4\n",
    "viterbi = np.zeros((N+2, T))\n",
    "bp = np.zeros((N+2, T))\n",
    "for state in range(N):\n",
    "    viterbi[state, 0] = transi.ix[0, state]* obser.ix[state, 0]\n",
    "    bp[state, 0] = 0\n",
    "print(viterbi)"
   ]
  },
  {
   "cell_type": "code",
   "execution_count": 326,
   "metadata": {
    "collapsed": false
   },
   "outputs": [
    {
     "name": "stdout",
     "output_type": "stream",
     "text": [
      "0.0\n",
      "0.0\n",
      "0.0\n",
      "6.84203995127e-07\n",
      "0.0\n",
      "0.0\n",
      "0.0\n",
      "0.0\n",
      "0.0\n",
      "0.0\n",
      "0.0\n",
      "0.0\n"
     ]
    }
   ],
   "source": [
    "for t in range(1, T):\n",
    "    for s in range(N):\n",
    "#        print(viterbi[s, t-1])\n",
    "#        print([transi.ix[sbar, s] for sbar in range(N)])\n",
    "#        print(max(viterbi[s, t-1] * transi.ix[s+1, sbar] for sbar in range(N)))\n",
    "        print(max(viterbi[s, t-1] * transi.ix[s+1, sbar] * obser.ix[sbar, s] for sbar in range(N)))"
   ]
  },
  {
   "cell_type": "code",
   "execution_count": 292,
   "metadata": {
    "collapsed": false
   },
   "outputs": [
    {
     "data": {
      "text/html": [
       "<div>\n",
       "<table border=\"1\" class=\"dataframe\">\n",
       "  <thead>\n",
       "    <tr style=\"text-align: right;\">\n",
       "      <th></th>\n",
       "      <th>VB</th>\n",
       "      <th>TO</th>\n",
       "      <th>NN</th>\n",
       "      <th>PPSS</th>\n",
       "    </tr>\n",
       "  </thead>\n",
       "  <tbody>\n",
       "    <tr>\n",
       "      <th>s</th>\n",
       "      <td>0.0190</td>\n",
       "      <td>0.00430</td>\n",
       "      <td>0.04100</td>\n",
       "      <td>0.06700</td>\n",
       "    </tr>\n",
       "    <tr>\n",
       "      <th>VB</th>\n",
       "      <td>0.0038</td>\n",
       "      <td>0.03500</td>\n",
       "      <td>0.04700</td>\n",
       "      <td>0.00700</td>\n",
       "    </tr>\n",
       "    <tr>\n",
       "      <th>TO</th>\n",
       "      <td>0.8300</td>\n",
       "      <td>0.00000</td>\n",
       "      <td>0.00047</td>\n",
       "      <td>0.00000</td>\n",
       "    </tr>\n",
       "    <tr>\n",
       "      <th>NN</th>\n",
       "      <td>0.0040</td>\n",
       "      <td>0.01600</td>\n",
       "      <td>0.08700</td>\n",
       "      <td>0.00450</td>\n",
       "    </tr>\n",
       "    <tr>\n",
       "      <th>PPSS</th>\n",
       "      <td>0.2300</td>\n",
       "      <td>0.00079</td>\n",
       "      <td>0.00120</td>\n",
       "      <td>0.00014</td>\n",
       "    </tr>\n",
       "  </tbody>\n",
       "</table>\n",
       "</div>"
      ],
      "text/plain": [
       "          VB       TO       NN     PPSS\n",
       "s     0.0190  0.00430  0.04100  0.06700\n",
       "VB    0.0038  0.03500  0.04700  0.00700\n",
       "TO    0.8300  0.00000  0.00047  0.00000\n",
       "NN    0.0040  0.01600  0.08700  0.00450\n",
       "PPSS  0.2300  0.00079  0.00120  0.00014"
      ]
     },
     "execution_count": 292,
     "metadata": {},
     "output_type": "execute_result"
    }
   ],
   "source": [
    "transi"
   ]
  },
  {
   "cell_type": "code",
   "execution_count": 293,
   "metadata": {
    "collapsed": false
   },
   "outputs": [
    {
     "data": {
      "text/html": [
       "<div>\n",
       "<table border=\"1\" class=\"dataframe\">\n",
       "  <thead>\n",
       "    <tr style=\"text-align: right;\">\n",
       "      <th></th>\n",
       "      <th>I</th>\n",
       "      <th>want</th>\n",
       "      <th>to</th>\n",
       "      <th>race</th>\n",
       "    </tr>\n",
       "  </thead>\n",
       "  <tbody>\n",
       "    <tr>\n",
       "      <th>VB</th>\n",
       "      <td>0.00</td>\n",
       "      <td>0.009300</td>\n",
       "      <td>0.00</td>\n",
       "      <td>0.00012</td>\n",
       "    </tr>\n",
       "    <tr>\n",
       "      <th>TO</th>\n",
       "      <td>0.00</td>\n",
       "      <td>0.000000</td>\n",
       "      <td>0.99</td>\n",
       "      <td>0.00000</td>\n",
       "    </tr>\n",
       "    <tr>\n",
       "      <th>NN</th>\n",
       "      <td>0.00</td>\n",
       "      <td>0.000054</td>\n",
       "      <td>0.00</td>\n",
       "      <td>0.00057</td>\n",
       "    </tr>\n",
       "    <tr>\n",
       "      <th>PPSS</th>\n",
       "      <td>0.37</td>\n",
       "      <td>0.000000</td>\n",
       "      <td>0.00</td>\n",
       "      <td>0.00000</td>\n",
       "    </tr>\n",
       "  </tbody>\n",
       "</table>\n",
       "</div>"
      ],
      "text/plain": [
       "         I      want    to     race\n",
       "VB    0.00  0.009300  0.00  0.00012\n",
       "TO    0.00  0.000000  0.99  0.00000\n",
       "NN    0.00  0.000054  0.00  0.00057\n",
       "PPSS  0.37  0.000000  0.00  0.00000"
      ]
     },
     "execution_count": 293,
     "metadata": {},
     "output_type": "execute_result"
    }
   ],
   "source": [
    "obser"
   ]
  },
  {
   "cell_type": "code",
   "execution_count": 304,
   "metadata": {
    "collapsed": false
   },
   "outputs": [
    {
     "data": {
      "text/plain": [
       "5.347500116713346e-05"
      ]
     },
     "execution_count": 304,
     "metadata": {},
     "output_type": "execute_result"
    }
   ],
   "source": [
    "transi.ix[0,3]*obser[3,0] * transi.ix[4, 0] * obser.ix[0, 1]"
   ]
  },
  {
   "cell_type": "code",
   "execution_count": null,
   "metadata": {
    "collapsed": false
   },
   "outputs": [],
   "source": [
    "transi.ix[0,3]*obser[3,0] * transi.ix[4, 0] * obser.ix[0, 1]"
   ]
  },
  {
   "cell_type": "code",
   "execution_count": null,
   "metadata": {
    "collapsed": true
   },
   "outputs": [],
   "source": []
  }
 ],
 "metadata": {
  "kernelspec": {
   "display_name": "Python 2",
   "language": "python",
   "name": "python2"
  },
  "language_info": {
   "codemirror_mode": {
    "name": "ipython",
    "version": 2
   },
   "file_extension": ".py",
   "mimetype": "text/x-python",
   "name": "python",
   "nbconvert_exporter": "python",
   "pygments_lexer": "ipython2",
   "version": "2.7.11"
  }
 },
 "nbformat": 4,
 "nbformat_minor": 0
}
